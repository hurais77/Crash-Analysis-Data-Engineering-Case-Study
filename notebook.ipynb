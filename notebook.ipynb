{
 "cells": [
  {
   "cell_type": "markdown",
   "metadata": {},
   "source": [
    "### Notebook for Crash Analysis"
   ]
  },
  {
   "cell_type": "markdown",
   "metadata": {},
   "source": [
    "#### Imports"
   ]
  },
  {
   "cell_type": "code",
   "execution_count": 15,
   "metadata": {},
   "outputs": [],
   "source": [
    "from utils.utils import initialize_spark, read_yaml_file, write_df_as_csv\n",
    "from analysis.crash_analysis import CrashAnalysis"
   ]
  },
  {
   "cell_type": "markdown",
   "metadata": {},
   "source": [
    "#### Import Config"
   ]
  },
  {
   "cell_type": "code",
   "execution_count": 2,
   "metadata": {},
   "outputs": [
    {
     "name": "stderr",
     "output_type": "stream",
     "text": [
      "2024-12-13 23:14:34,447 - INFO - [utils.py:73] - YAML configuration file read successfully from path: config.yaml\n"
     ]
    },
    {
     "name": "stdout",
     "output_type": "stream",
     "text": [
      "{'input_paths': {'charges': 'data/input/Charges_use.csv', 'endorsements': 'data/input/Endorse_use.csv', 'restrict': 'data/input/Restrict_use.csv', 'damages': 'data/input/Damages_use.csv', 'primary_person': 'data/input/Primary_Person_use.csv', 'unit': 'data/input/Units_use.csv'}, 'output_path': 'data/output'}\n"
     ]
    }
   ],
   "source": [
    "config = read_yaml_file('config.yaml')\n",
    "print(config)"
   ]
  },
  {
   "cell_type": "markdown",
   "metadata": {},
   "source": [
    "#### Inititalize Spark Session"
   ]
  },
  {
   "cell_type": "code",
   "execution_count": 3,
   "metadata": {},
   "outputs": [
    {
     "name": "stderr",
     "output_type": "stream",
     "text": [
      "2024-12-13 23:14:39,155 - INFO - [utils.py:18] - Spark session initialized successfully.\n"
     ]
    }
   ],
   "source": [
    "spark = initialize_spark(\"BCG Data Engineering Case Study\")"
   ]
  },
  {
   "cell_type": "markdown",
   "metadata": {},
   "source": [
    "#### Initialize Crash Analysis Class"
   ]
  },
  {
   "cell_type": "code",
   "execution_count": 4,
   "metadata": {},
   "outputs": [
    {
     "name": "stderr",
     "output_type": "stream",
     "text": [
      "2024-12-13 23:14:43,715 - INFO - [utils.py:39] - CSV file loaded successfully from path: data/input/Charges_use.csv\n",
      "2024-12-13 23:14:44,064 - INFO - [utils.py:39] - CSV file loaded successfully from path: data/input/Endorse_use.csv\n",
      "2024-12-13 23:14:44,292 - INFO - [utils.py:39] - CSV file loaded successfully from path: data/input/Restrict_use.csv\n",
      "2024-12-13 23:14:44,579 - INFO - [utils.py:39] - CSV file loaded successfully from path: data/input/Damages_use.csv\n",
      "2024-12-13 23:14:44,821 - INFO - [utils.py:39] - CSV file loaded successfully from path: data/input/Primary_Person_use.csv\n",
      "2024-12-13 23:14:45,129 - INFO - [utils.py:39] - CSV file loaded successfully from path: data/input/Units_use.csv\n"
     ]
    }
   ],
   "source": [
    "crash_analysis_obj = CrashAnalysis(spark, config)"
   ]
  },
  {
   "cell_type": "markdown",
   "metadata": {},
   "source": [
    "#### Call All Analysis Methods"
   ]
  },
  {
   "cell_type": "code",
   "execution_count": 5,
   "metadata": {},
   "outputs": [
    {
     "name": "stderr",
     "output_type": "stream",
     "text": [
      "2024-12-13 23:14:46,624 - INFO - [crash_analysis.py:38] - Analytics 1: Find the number of crashes (accidents) in which number of males killed are greater than 2? \n",
      "Answer - 0\n",
      "2024-12-13 23:14:57,185 - INFO - [utils.py:55] - Dataframe written successfully to path: data/output/1\n"
     ]
    },
    {
     "name": "stdout",
     "output_type": "stream",
     "text": [
      "+-----------------+\n",
      "|NO_OF_MALE_KILLED|\n",
      "+-----------------+\n",
      "|                0|\n",
      "+-----------------+\n",
      "\n"
     ]
    },
    {
     "data": {
      "text/plain": [
       "0"
      ]
     },
     "execution_count": 5,
     "metadata": {},
     "output_type": "execute_result"
    }
   ],
   "source": [
    "# Analytics 1: Find the number of crashes (accidents) in which number of males killed are greater than 2?\n",
    "crash_analysis_obj.count_number_of_male_crashes()"
   ]
  },
  {
   "cell_type": "code",
   "execution_count": 6,
   "metadata": {},
   "outputs": [
    {
     "name": "stderr",
     "output_type": "stream",
     "text": [
      "2024-12-13 23:15:18,067 - INFO - [crash_analysis.py:54] - Analysis 2: How many two wheelers are booked for crashes? \n",
      "Answer - 784\n",
      "2024-12-13 23:15:34,775 - INFO - [utils.py:55] - Dataframe written successfully to path: data/output/2\n"
     ]
    },
    {
     "name": "stdout",
     "output_type": "stream",
     "text": [
      "+-------------------------------------+\n",
      "|NO_OF_TWO_WHEELERS_BOOKED_FOR_CRASHES|\n",
      "+-------------------------------------+\n",
      "|                                  784|\n",
      "+-------------------------------------+\n",
      "\n"
     ]
    },
    {
     "data": {
      "text/plain": [
       "784"
      ]
     },
     "execution_count": 6,
     "metadata": {},
     "output_type": "execute_result"
    }
   ],
   "source": [
    "# Analysis 2: How many two wheelers are booked for crashes? \n",
    "crash_analysis_obj.count_two_wheeler_crashes()"
   ]
  },
  {
   "cell_type": "code",
   "execution_count": 7,
   "metadata": {},
   "outputs": [
    {
     "name": "stderr",
     "output_type": "stream",
     "text": [
      "2024-12-13 23:15:50,597 - INFO - [crash_analysis.py:77] - Analysis 3: Determine the Top 5 Vehicle Makes of the cars present in the crashes in which driver died and Airbags did not deploy. \n",
      "Answer - ['CHEVROLET', 'FORD', 'DODGE', 'FREIGHTLINER', 'NISSAN']\n",
      "2024-12-13 23:15:51,684 - INFO - [utils.py:55] - Dataframe written successfully to path: data/output/3\n"
     ]
    },
    {
     "name": "stdout",
     "output_type": "stream",
     "text": [
      "+------------+\n",
      "| VEH_MAKE_ID|\n",
      "+------------+\n",
      "|   CHEVROLET|\n",
      "|        FORD|\n",
      "|       DODGE|\n",
      "|FREIGHTLINER|\n",
      "|      NISSAN|\n",
      "+------------+\n",
      "\n"
     ]
    },
    {
     "data": {
      "text/plain": [
       "['CHEVROLET', 'FORD', 'DODGE', 'FREIGHTLINER', 'NISSAN']"
      ]
     },
     "execution_count": 7,
     "metadata": {},
     "output_type": "execute_result"
    }
   ],
   "source": [
    "# Analysis 3: Determine the Top 5 Vehicle Makes of the cars present in the crashes in which driver died and Airbags did not deploy.\n",
    "crash_analysis_obj.find_top5_crashes_where_driver_died_without_airbag()"
   ]
  },
  {
   "cell_type": "code",
   "execution_count": 8,
   "metadata": {},
   "outputs": [
    {
     "name": "stderr",
     "output_type": "stream",
     "text": [
      "2024-12-13 23:15:55,692 - INFO - [crash_analysis.py:98] - Analysis 4: Determine number of Vehicles with driver having valid licences involved in hit and run? \n",
      "Answer - 3387\n",
      "2024-12-13 23:16:08,779 - INFO - [utils.py:55] - Dataframe written successfully to path: data/output/4\n"
     ]
    },
    {
     "name": "stdout",
     "output_type": "stream",
     "text": [
      "+--------------+\n",
      "|NO_OF_VEHICLES|\n",
      "+--------------+\n",
      "|          3387|\n",
      "+--------------+\n",
      "\n"
     ]
    },
    {
     "data": {
      "text/plain": [
       "3387"
      ]
     },
     "execution_count": 8,
     "metadata": {},
     "output_type": "execute_result"
    }
   ],
   "source": [
    "# Analysis 4: Determine number of Vehicles with driver having valid licences involved in hit and run? \n",
    "crash_analysis_obj.count_vehicles_with_drivers_having_valid_license_with_hitandrun()"
   ]
  },
  {
   "cell_type": "code",
   "execution_count": 9,
   "metadata": {},
   "outputs": [
    {
     "name": "stderr",
     "output_type": "stream",
     "text": [
      "2024-12-13 23:16:26,106 - INFO - [crash_analysis.py:121] - Analysis 5: Which state has highest number of accidents in which females are not involved?\n",
      "Answer - Texas\n",
      "2024-12-13 23:16:29,276 - INFO - [utils.py:55] - Dataframe written successfully to path: data/output/5\n"
     ]
    },
    {
     "name": "stdout",
     "output_type": "stream",
     "text": [
      "+-----------------+--------------+\n",
      "|DRVR_LIC_STATE_ID|accident_count|\n",
      "+-----------------+--------------+\n",
      "|            Texas|         51957|\n",
      "+-----------------+--------------+\n",
      "\n"
     ]
    },
    {
     "data": {
      "text/plain": [
       "'Texas'"
      ]
     },
     "execution_count": 9,
     "metadata": {},
     "output_type": "execute_result"
    }
   ],
   "source": [
    "# Analysis 5: Which state has highest number of accidents in which females are not involved? \n",
    "crash_analysis_obj.find_state_with_accidents_without_females_involved()"
   ]
  },
  {
   "cell_type": "code",
   "execution_count": 10,
   "metadata": {},
   "outputs": [
    {
     "name": "stderr",
     "output_type": "stream",
     "text": [
      "2024-12-13 23:16:33,390 - INFO - [crash_analysis.py:142] - Analysis 6: Which are the Top 3rd to 5th VEH_MAKE_IDs that contribute to a largest number of injuries including death?\n",
      "Answer - ['TOYOTA', 'DODGE', 'NISSAN']\n",
      "2024-12-13 23:16:34,576 - INFO - [utils.py:55] - Dataframe written successfully to path: data/output/6\n"
     ]
    },
    {
     "name": "stdout",
     "output_type": "stream",
     "text": [
      "+-----------+-----+\n",
      "|VEH_MAKE_ID|TOTAL|\n",
      "+-----------+-----+\n",
      "|     TOYOTA| 4228|\n",
      "|      DODGE| 3146|\n",
      "|     NISSAN| 3118|\n",
      "+-----------+-----+\n",
      "\n"
     ]
    },
    {
     "data": {
      "text/plain": [
       "['TOYOTA', 'DODGE', 'NISSAN']"
      ]
     },
     "execution_count": 10,
     "metadata": {},
     "output_type": "execute_result"
    }
   ],
   "source": [
    "# Analysis 6: Which are the Top 3rd to 5th VEH_MAKE_IDs that contribute to a largest number of injuries including death\n",
    "crash_analysis_obj.find_3to5_vehicle_with_most_injuries_or_death()"
   ]
  },
  {
   "cell_type": "code",
   "execution_count": 11,
   "metadata": {},
   "outputs": [
    {
     "name": "stderr",
     "output_type": "stream",
     "text": [
      "2024-12-13 23:16:38,173 - INFO - [crash_analysis.py:176] - Analysis 7: For all the body styles involved in crashes, mention the top ethnic user group of each unique body style.\n",
      "Answer - {'AMBULANCE': 'WHITE', 'BUS': 'HISPANIC', 'FARM EQUIPMENT': 'WHITE', 'FIRE TRUCK': 'WHITE', 'MOTORCYCLE': 'WHITE', 'NA': 'WHITE', 'NEV-NEIGHBORHOOD ELECTRIC VEHICLE': 'WHITE', 'NOT REPORTED': 'WHITE', 'OTHER  (EXPLAIN IN NARRATIVE)': 'WHITE', 'PASSENGER CAR, 2-DOOR': 'WHITE', 'PASSENGER CAR, 4-DOOR': 'WHITE', 'PICKUP': 'WHITE', 'POLICE CAR/TRUCK': 'WHITE', 'POLICE MOTORCYCLE': 'HISPANIC', 'SPORT UTILITY VEHICLE': 'WHITE', 'TRUCK': 'WHITE', 'TRUCK TRACTOR': 'WHITE', 'UNKNOWN': 'WHITE', 'VAN': 'WHITE', 'YELLOW SCHOOL BUS': 'WHITE'}\n",
      "2024-12-13 23:16:40,232 - INFO - [utils.py:55] - Dataframe written successfully to path: data/output/7\n"
     ]
    },
    {
     "name": "stdout",
     "output_type": "stream",
     "text": [
      "+--------------------+-----------------+\n",
      "|    VEH_BODY_STYL_ID|PRSN_ETHNICITY_ID|\n",
      "+--------------------+-----------------+\n",
      "|           AMBULANCE|            WHITE|\n",
      "|                 BUS|         HISPANIC|\n",
      "|      FARM EQUIPMENT|            WHITE|\n",
      "|          FIRE TRUCK|            WHITE|\n",
      "|          MOTORCYCLE|            WHITE|\n",
      "|                  NA|            WHITE|\n",
      "|NEV-NEIGHBORHOOD ...|            WHITE|\n",
      "|        NOT REPORTED|         HISPANIC|\n",
      "|        NOT REPORTED|            WHITE|\n",
      "|OTHER  (EXPLAIN I...|            WHITE|\n",
      "|PASSENGER CAR, 2-...|            WHITE|\n",
      "|PASSENGER CAR, 4-...|            WHITE|\n",
      "|              PICKUP|            WHITE|\n",
      "|    POLICE CAR/TRUCK|            WHITE|\n",
      "|   POLICE MOTORCYCLE|         HISPANIC|\n",
      "|SPORT UTILITY VEH...|            WHITE|\n",
      "|               TRUCK|            WHITE|\n",
      "|       TRUCK TRACTOR|            WHITE|\n",
      "|             UNKNOWN|            WHITE|\n",
      "|                 VAN|            WHITE|\n",
      "+--------------------+-----------------+\n",
      "only showing top 20 rows\n",
      "\n"
     ]
    },
    {
     "data": {
      "text/plain": [
       "{'AMBULANCE': 'WHITE',\n",
       " 'BUS': 'HISPANIC',\n",
       " 'FARM EQUIPMENT': 'WHITE',\n",
       " 'FIRE TRUCK': 'WHITE',\n",
       " 'MOTORCYCLE': 'WHITE',\n",
       " 'NA': 'WHITE',\n",
       " 'NEV-NEIGHBORHOOD ELECTRIC VEHICLE': 'WHITE',\n",
       " 'NOT REPORTED': 'WHITE',\n",
       " 'OTHER  (EXPLAIN IN NARRATIVE)': 'WHITE',\n",
       " 'PASSENGER CAR, 2-DOOR': 'WHITE',\n",
       " 'PASSENGER CAR, 4-DOOR': 'WHITE',\n",
       " 'PICKUP': 'WHITE',\n",
       " 'POLICE CAR/TRUCK': 'WHITE',\n",
       " 'POLICE MOTORCYCLE': 'HISPANIC',\n",
       " 'SPORT UTILITY VEHICLE': 'WHITE',\n",
       " 'TRUCK': 'WHITE',\n",
       " 'TRUCK TRACTOR': 'WHITE',\n",
       " 'UNKNOWN': 'WHITE',\n",
       " 'VAN': 'WHITE',\n",
       " 'YELLOW SCHOOL BUS': 'WHITE'}"
      ]
     },
     "execution_count": 11,
     "metadata": {},
     "output_type": "execute_result"
    }
   ],
   "source": [
    "# Analysis 7: For all the body styles involved in crashes, mention the top ethnic user group of each unique body style  \n",
    "crash_analysis_obj.find_top_ethnic_ug_crash_for_each_body_style()"
   ]
  },
  {
   "cell_type": "code",
   "execution_count": 12,
   "metadata": {},
   "outputs": [
    {
     "name": "stderr",
     "output_type": "stream",
     "text": [
      "2024-12-13 23:16:44,635 - INFO - [crash_analysis.py:200] - Analysis 8: Among the crashed cars, what are the Top 5 Zip Codes with highest number crashes with alcohols as the contributing factor to a crash (Use Driver Zip Code)\n",
      "Answer - {'78521': 80, '76010': 66, '79938': 61, '79936': 58, '78240': 45}\n",
      "2024-12-13 23:16:46,622 - INFO - [utils.py:55] - Dataframe written successfully to path: data/output/8\n"
     ]
    },
    {
     "name": "stdout",
     "output_type": "stream",
     "text": [
      "+--------+-----------+\n",
      "|DRVR_ZIP|CRASH_COUNT|\n",
      "+--------+-----------+\n",
      "|   78521|         80|\n",
      "|   76010|         66|\n",
      "|   79938|         61|\n",
      "|   79936|         58|\n",
      "|   78240|         45|\n",
      "+--------+-----------+\n",
      "\n"
     ]
    },
    {
     "data": {
      "text/plain": [
       "{'78521': 80, '76010': 66, '79938': 61, '79936': 58, '78240': 45}"
      ]
     },
     "execution_count": 12,
     "metadata": {},
     "output_type": "execute_result"
    }
   ],
   "source": [
    "# Analysis 8: Among the crashed cars, what are the Top 5 Zip Codes with highest number crashes with alcohols as the contributing factor to a crash (Use Driver Zip Code)\n",
    "crash_analysis_obj.find_top5_zipcodes_with_highest_car_crashes_involving_alcohol()"
   ]
  },
  {
   "cell_type": "code",
   "execution_count": 13,
   "metadata": {},
   "outputs": [
    {
     "name": "stderr",
     "output_type": "stream",
     "text": [
      "2024-12-13 23:16:50,345 - INFO - [crash_analysis.py:236] - Analysis 9: Count of Distinct Crash IDs where No Damaged Property was observed and Damage Level (VEH_DMAG_SCL~) is above 4 and car avails Insurance.\n",
      "Answer - 8\n",
      "2024-12-13 23:16:51,575 - INFO - [utils.py:55] - Dataframe written successfully to path: data/output/9\n"
     ]
    },
    {
     "name": "stdout",
     "output_type": "stream",
     "text": [
      "+--------+\n",
      "|CRASH_ID|\n",
      "+--------+\n",
      "|14885395|\n",
      "|14894076|\n",
      "|14870169|\n",
      "|14996273|\n",
      "|15232090|\n",
      "|15255328|\n",
      "|15249931|\n",
      "|15307513|\n",
      "+--------+\n",
      "\n"
     ]
    },
    {
     "data": {
      "text/plain": [
       "8"
      ]
     },
     "execution_count": 13,
     "metadata": {},
     "output_type": "execute_result"
    }
   ],
   "source": [
    "# Analysis 9: Count of Distinct Crash IDs where No Damaged Property was observed and Damage Level (VEH_DMAG_SCL~) is above 4 and car avails Insurance\n",
    "crash_analysis_obj.count_crash_ids_without_any_damage()"
   ]
  },
  {
   "cell_type": "code",
   "execution_count": 14,
   "metadata": {},
   "outputs": [
    {
     "name": "stderr",
     "output_type": "stream",
     "text": [
      "2024-12-13 23:16:56,555 - INFO - [crash_analysis.py:282] - Analysis 10: Determine the Top 5 Vehicle Makes where drivers are charged with speeding related offences, has licensed Drivers, used top 10 used vehicle colours andhas car licensed with the Top 25 states with highest number of offences (to be deduced from the data).\n",
      "Answer - ['FORD', 'CHEVROLET', 'TOYOTA', 'DODGE', 'NISSAN']\n",
      "2024-12-13 23:16:57,871 - INFO - [utils.py:55] - Dataframe written successfully to path: data/output/10\n"
     ]
    },
    {
     "name": "stdout",
     "output_type": "stream",
     "text": [
      "+-----------+-----+\n",
      "|VEH_MAKE_ID|count|\n",
      "+-----------+-----+\n",
      "|       FORD|17994|\n",
      "|  CHEVROLET|15621|\n",
      "|     TOYOTA|11069|\n",
      "|      DODGE| 7381|\n",
      "|     NISSAN| 6952|\n",
      "+-----------+-----+\n",
      "\n"
     ]
    },
    {
     "data": {
      "text/plain": [
       "['FORD', 'CHEVROLET', 'TOYOTA', 'DODGE', 'NISSAN']"
      ]
     },
     "execution_count": 14,
     "metadata": {},
     "output_type": "execute_result"
    }
   ],
   "source": [
    "# Analysis 10: Determine the Top 5 Vehicle Makes where drivers are charged with speeding related offences, has licensed Drivers, used top 10 used vehicle colours and has car licensed with the Top 25 states with highest number of offences (to be deduced from the data)\n",
    "crash_analysis_obj.find_top5_vehicle_brands_with_speeding_offense()"
   ]
  }
 ],
 "metadata": {
  "kernelspec": {
   "display_name": "BCG-qENiDbTS",
   "language": "python",
   "name": "python3"
  },
  "language_info": {
   "codemirror_mode": {
    "name": "ipython",
    "version": 3
   },
   "file_extension": ".py",
   "mimetype": "text/x-python",
   "name": "python",
   "nbconvert_exporter": "python",
   "pygments_lexer": "ipython3",
   "version": "3.10.0"
  }
 },
 "nbformat": 4,
 "nbformat_minor": 2
}
